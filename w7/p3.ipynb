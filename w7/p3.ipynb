{
 "cells": [
  {
   "cell_type": "code",
   "execution_count": 1,
   "id": "5852ae1b",
   "metadata": {},
   "outputs": [
    {
     "name": "stdout",
     "output_type": "stream",
     "text": [
      "Collecting hnswlib\n",
      "  Downloading hnswlib-0.8.0.tar.gz (36 kB)\n",
      "  Installing build dependencies: started\n",
      "  Installing build dependencies: finished with status 'done'\n",
      "  Getting requirements to build wheel: started\n",
      "  Getting requirements to build wheel: finished with status 'done'\n",
      "  Preparing metadata (pyproject.toml): started\n",
      "  Preparing metadata (pyproject.toml): finished with status 'done'\n",
      "Requirement already satisfied: numpy in c:\\users\\gio\\anaconda3\\envs\\py312_env\\lib\\site-packages (from hnswlib) (2.3.3)\n",
      "Building wheels for collected packages: hnswlib\n",
      "  Building wheel for hnswlib (pyproject.toml): started\n",
      "  Building wheel for hnswlib (pyproject.toml): finished with status 'done'\n",
      "  Created wheel for hnswlib: filename=hnswlib-0.8.0-cp312-cp312-win_amd64.whl size=160821 sha256=11fd6f3b5b9285d543c33f0ca9839c8706749c658c773d664346b4cd05a4b724\n",
      "  Stored in directory: c:\\users\\gio\\appdata\\local\\pip\\cache\\wheels\\ac\\39\\b3\\cbd7f9cbb76501d2d5fbc84956e70d0b94e788aac87bda465e\n",
      "Successfully built hnswlib\n",
      "Installing collected packages: hnswlib\n",
      "Successfully installed hnswlib-0.8.0\n",
      "Note: you may need to restart the kernel to use updated packages.\n"
     ]
    }
   ],
   "source": [
    "%pip install hnswlib"
   ]
  },
  {
   "cell_type": "code",
   "execution_count": 6,
   "id": "719596e5",
   "metadata": {},
   "outputs": [
    {
     "name": "stdout",
     "output_type": "stream",
     "text": [
      "=== Exact NN ===\n",
      "Indices: [[876746  57818 672825 696473 501303]]\n",
      "Distances: [[0.03323986 0.04970084 0.05442793 0.05801032 0.05980372]]\n",
      "Waktu: 0.006997346878051758 detik\n",
      "\n",
      "=== HNSW ===\n",
      "Indices: [[876746  57818 672825 696473 501303]]\n",
      "Distances: [[0.00110489 0.00247017 0.0029624  0.0033652  0.00357648]]\n",
      "Waktu: 0.0 detik\n"
     ]
    }
   ],
   "source": [
    "import hnswlib\n",
    "import numpy as np\n",
    "import time\n",
    "from sklearn.neighbors import NearestNeighbors\n",
    "\n",
    "# ===========================\n",
    "# 1. Buat data 2D acak\n",
    "# ===========================\n",
    "num_elements = 1000000\n",
    "dim = 5\n",
    "data = np.random.random((num_elements, dim)).astype(np.float32)\n",
    "\n",
    "# Query point\n",
    "query = np.array([[0.5, 0.5, 0.5, 0.5, 0.5]], dtype=np.float32)\n",
    "k = 5  # cari 5 tetangga terdekat\n",
    "\n",
    "# ===========================\n",
    "# 2. Exact NN (Brute Force)\n",
    "# ===========================\n",
    "nn = NearestNeighbors(n_neighbors=k, algorithm='brute', metric='euclidean')\n",
    "nn.fit(data)\n",
    "\n",
    "start = time.time()\n",
    "distances, indices = nn.kneighbors(query)\n",
    "end = time.time()\n",
    "\n",
    "print(\"=== Exact NN ===\")\n",
    "print(\"Indices:\", indices)\n",
    "print(\"Distances:\", distances)\n",
    "print(\"Waktu:\", end - start, \"detik\")\n",
    "\n",
    "# ===========================\n",
    "# 3. HNSW\n",
    "# ===========================\n",
    "# Inisialisasi index HNSW\n",
    "p = hnswlib.Index(space='l2', dim=dim)  \n",
    "\n",
    "# Ukuran maksimum elemen yang bisa ditampung\n",
    "p.init_index(max_elements=num_elements, ef_construction=100, M=16)\n",
    "\n",
    "# Tambahkan data\n",
    "p.add_items(data)\n",
    "\n",
    "# Set parameter pencarian\n",
    "p.set_ef(50)   # tradeoff speed vs accuracy\n",
    "\n",
    "start = time.time()\n",
    "labels, distances = p.knn_query(query, k=k)\n",
    "end = time.time()\n",
    "\n",
    "print(\"\\n=== HNSW ===\")\n",
    "print(\"Indices:\", labels)\n",
    "print(\"Distances:\", distances)\n",
    "print(\"Waktu:\", end - start, \"detik\")\n"
   ]
  },
  {
   "cell_type": "markdown",
   "id": "030c99fb",
   "metadata": {},
   "source": [
    "akukan percobaan pada metric distance yang berbeda, 1000 vs 1jt data, 2D vs 5D data. catat hasilnya pada tabel yang anda buat sendiri seperti pada praktikum 1."
   ]
  },
  {
   "cell_type": "markdown",
   "id": "d8c3322a",
   "metadata": {},
   "source": [
    "| Jumlah data | Dimensi | Hasil Index terdekat ENN vs HNSW | Waktu komputasi ENN vs HNSW |\n",
    "|------------|---------|--------------------------------|-------------------|\n",
    "| 1000       | 2D      | [978 726 232 779 974] vs [978 726 232 779 974] | 0.00797724723815918 s vs 0.0 s |\n",
    "| 1000000    | 2D      | [745529 678190 266006 415014 916343] vs [745529 678190 266006 415014 916343] | 0.0040018558502197266 s vs 0.0 s |\n",
    "| 1000       | 5D      | [651 652  94 864 997] vs [651 652  94 864 997] | 0.010999202728271484 s vs 0.0010004043579101562 s |\n",
    "| 1000000    | 5D      | [876746  57818 672825 696473 501303] vs [876746  57818 672825 696473 501303] | 0.006997346878051758 s vs 0.0 s |"
   ]
  },
  {
   "cell_type": "markdown",
   "id": "c6f25f14",
   "metadata": {},
   "source": []
  }
 ],
 "metadata": {
  "kernelspec": {
   "display_name": "py312_env",
   "language": "python",
   "name": "python3"
  },
  "language_info": {
   "codemirror_mode": {
    "name": "ipython",
    "version": 3
   },
   "file_extension": ".py",
   "mimetype": "text/x-python",
   "name": "python",
   "nbconvert_exporter": "python",
   "pygments_lexer": "ipython3",
   "version": "3.12.11"
  }
 },
 "nbformat": 4,
 "nbformat_minor": 5
}
