{
 "cells": [
  {
   "cell_type": "markdown",
   "id": "88e52f9d",
   "metadata": {},
   "source": [
    "Jalankan code berikut pada Google Colab dan PyDroid3 (Android Python) Application di Smartphone Android. Bandingkan hasilnya dan tuliskan analisa anda, tuliskan juga spesifikasi smartphone yang anda gunakan :)."
   ]
  },
  {
   "cell_type": "code",
   "execution_count": 1,
   "id": "44b77194",
   "metadata": {},
   "outputs": [
    {
     "name": "stdout",
     "output_type": "stream",
     "text": [
      "Exact NN done in 2.265 s\n",
      "Annoy done in 0.392 s\n",
      "HNSW done in 0.303 s\n",
      "FAISS IVF done in 0.155 s\n",
      "\n",
      "=== Ringkasan Waktu (detik) ===\n",
      "Exact NN : 2.265\n",
      "Annoy    : 0.392\n",
      "HNSW     : 0.303\n",
      "FAISS    : 0.155\n"
     ]
    }
   ],
   "source": [
    "import numpy as np\n",
    "import time\n",
    "from sklearn.neighbors import NearestNeighbors\n",
    "from annoy import AnnoyIndex\n",
    "import hnswlib\n",
    "import faiss\n",
    "from sklearn.preprocessing import StandardScaler\n",
    "\n",
    "# -------------------------------\n",
    "# Contoh dataset kecil untuk testing\n",
    "# -------------------------------\n",
    "np.random.seed(42)\n",
    "n_samples = 10000   # jumlah database vector\n",
    "d = 128             # dimensi\n",
    "X = np.random.random((n_samples, d)).astype('float32')\n",
    "\n",
    "# Standarisasi fitur\n",
    "scaler = StandardScaler()\n",
    "X_scaled = scaler.fit_transform(X)\n",
    "\n",
    "k = 10  # jumlah nearest neighbors\n",
    "\n",
    "# -------------------------------\n",
    "# Exact NN (brute-force)\n",
    "# -------------------------------\n",
    "start = time.time()\n",
    "nn = NearestNeighbors(n_neighbors=k, algorithm='brute', metric='euclidean')\n",
    "nn.fit(X_scaled)\n",
    "dist_exact, idx_exact = nn.kneighbors(X_scaled)\n",
    "time_exact = time.time() - start\n",
    "print(f\"Exact NN done in {time_exact:.3f} s\")\n",
    "\n",
    "# -------------------------------\n",
    "# Annoy\n",
    "# -------------------------------\n",
    "start = time.time()\n",
    "f = X_scaled.shape[1]\n",
    "index_annoy = AnnoyIndex(f, 'euclidean')\n",
    "for i, v in enumerate(X_scaled):\n",
    "    index_annoy.add_item(i, v)\n",
    "index_annoy.build(10)\n",
    "idx_annoy = [index_annoy.get_nns_by_vector(v, k) for v in X_scaled]\n",
    "time_annoy = time.time() - start\n",
    "print(f\"Annoy done in {time_annoy:.3f} s\")\n",
    "\n",
    "# -------------------------------\n",
    "# HNSW\n",
    "# -------------------------------\n",
    "start = time.time()\n",
    "p_hnsw = hnswlib.Index(space='l2', dim=d)\n",
    "p_hnsw.init_index(max_elements=n_samples, ef_construction=200, M=16)\n",
    "p_hnsw.add_items(X_scaled)\n",
    "p_hnsw.set_ef(200)\n",
    "idx_hnsw, _ = p_hnsw.knn_query(X_scaled, k=k)\n",
    "time_hnsw = time.time() - start\n",
    "print(f\"HNSW done in {time_hnsw:.3f} s\")\n",
    "\n",
    "# -------------------------------\n",
    "# FAISS IVF\n",
    "# -------------------------------\n",
    "start = time.time()\n",
    "quantizer = faiss.IndexFlatL2(d)\n",
    "nlist=100\n",
    "index_faiss = faiss.IndexIVFFlat(quantizer, d, nlist, faiss.METRIC_L2)\n",
    "index_faiss.train(X_scaled)\n",
    "index_faiss.add(X_scaled)\n",
    "index_faiss.nprobe = 10\n",
    "_, idx_faiss = index_faiss.search(X_scaled, k)\n",
    "time_faiss = time.time() - start\n",
    "print(f\"FAISS IVF done in {time_faiss:.3f} s\")\n",
    "\n",
    "# -------------------------------\n",
    "# Tampilkan ringkasan waktu\n",
    "# -------------------------------\n",
    "print(\"\\n=== Ringkasan Waktu (detik) ===\")\n",
    "print(f\"Exact NN : {time_exact:.3f}\")\n",
    "print(f\"Annoy    : {time_annoy:.3f}\")\n",
    "print(f\"HNSW     : {time_hnsw:.3f}\")\n",
    "print(f\"FAISS    : {time_faiss:.3f}\")\n"
   ]
  },
  {
   "cell_type": "markdown",
   "id": "3b5f11b4",
   "metadata": {},
   "source": [
    "Hasil analisa pada dataset kecil yang dibuat, metode ENN menunjukkan kecepatan terbaik yaitu 0,154, mengalahkan HNSW yang awalnya merupakan metode yang paling cocok untuk dataset besar. sedangkan ANNOY yang tadinya menghasilkan kecepatan yang terbaik tidak menunjukkan performa nya pada dataset kecil. hasil ini menunjukkan bahwa ENN juga sangat cocok digunakan untuk dataset kecil dan penggunaan metode lain juga fleksibel tergantung kondisi.\n",
    "\n",
    "Tidak ada perbandingan dengan versi Android karena ketidakmampuan device untuk menjalankan kode ini. bukti ada pada gambar di folder ini bernama 'pydroid.jpg' yang tidak dapat install library sama sekali."
   ]
  }
 ],
 "metadata": {
  "kernelspec": {
   "display_name": "py312_env",
   "language": "python",
   "name": "python3"
  },
  "language_info": {
   "codemirror_mode": {
    "name": "ipython",
    "version": 3
   },
   "file_extension": ".py",
   "mimetype": "text/x-python",
   "name": "python",
   "nbconvert_exporter": "python",
   "pygments_lexer": "ipython3",
   "version": "3.12.11"
  }
 },
 "nbformat": 4,
 "nbformat_minor": 5
}
