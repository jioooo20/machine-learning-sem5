{
 "cells": [
  {
   "cell_type": "code",
   "execution_count": 12,
   "id": "375e68e7",
   "metadata": {},
   "outputs": [
    {
     "name": "stdout",
     "output_type": "stream",
     "text": [
      "Requirement already satisfied: annoy in c:\\users\\gio\\anaconda3\\envs\\py312_env\\lib\\site-packages (1.17.0)\n",
      "Note: you may need to restart the kernel to use updated packages.\n"
     ]
    }
   ],
   "source": [
    "%pip install annoy"
   ]
  },
  {
   "cell_type": "code",
   "execution_count": 20,
   "id": "42db9835",
   "metadata": {},
   "outputs": [
    {
     "name": "stdout",
     "output_type": "stream",
     "text": [
      "Exact NN index: [64040 64186 88792]\n",
      "Exact NN jarak: [0.         0.15797867 0.25332711]\n",
      "Waktu Exact: 4.9999 ms\n",
      "\n",
      "Annoy NN index: [59477, 12303, 1267]\n",
      "Annoy NN jarak: [np.float64(88.80155239749594), np.float64(63.528489005301076), np.float64(20.944979198306577)]\n",
      "Waktu Annoy: 0.0 ms\n"
     ]
    },
    {
     "data": {
      "image/png": "[encoded data removed]",
      "text/plain": [
       "<Figure size 600x600 with 1 Axes>"
      ]
     },
     "metadata": {},
     "output_type": "display_data"
    }
   ],
   "source": [
    "import numpy as np\n",
    "import matplotlib.pyplot as plt\n",
    "import time\n",
    "\n",
    "from annoy import AnnoyIndex\n",
    "\n",
    "# 1. Dataset 2D\n",
    "np.random.seed(42)\n",
    "n_points = 100000\n",
    "X = np.random.rand(n_points, 2) * 100  # titik random dalam ruang 100x100\n",
    "\n",
    "# Query point (ambil salah satu titik random)\n",
    "query = X[np.random.randint(0, n_points)]\n",
    "\n",
    "# 2. Exact NN (brute force)\n",
    "start = time.time()\n",
    "distances = np.linalg.norm(X - query, axis=1)\n",
    "idx_exact = np.argsort(distances)[:3]  # ambil 3 terdekat\n",
    "time_exact = time.time() - start\n",
    "\n",
    "print(\"Exact NN index:\", idx_exact)\n",
    "print(\"Exact NN jarak:\", distances[idx_exact])\n",
    "print(\"Waktu Exact:\", round(time_exact*1000, 4), \"ms\")\n",
    "\n",
    "# 3. Annoy NN (3 tree)\n",
    "f = 2  # dimensi\n",
    "t = AnnoyIndex(f, 'angular')  \n",
    "for i, vec in enumerate(X):\n",
    "    t.add_item(i, vec)\n",
    "\n",
    "t.build(3)  # 3 trees\n",
    "\n",
    "start = time.time()\n",
    "idx_ann = t.get_nns_by_vector(query, 3)  # cari 3 NN\n",
    "time_ann = time.time() - start\n",
    "\n",
    "print(\"\\nAnnoy NN index:\", idx_ann)\n",
    "print(\"Annoy NN jarak:\", [np.linalg.norm(X[i]-query) for i in idx_ann])\n",
    "print(\"Waktu Annoy:\", round(time_ann*1000, 4), \"ms\")\n",
    "\n",
    "# 4. Visualisasi hasil\n",
    "plt.figure(figsize=(6,6))\n",
    "plt.scatter(X[:,0], X[:,1], c=\"lightgray\", s=20, label=\"Dataset\")\n",
    "plt.scatter(query[0], query[1], c=\"red\", marker=\"x\", s=100, label=\"Query\")\n",
    "\n",
    "# Exact NN ditandai biru\n",
    "plt.scatter(X[idx_exact,0], X[idx_exact,1], c=\"blue\", s=80, label=\"Exact NN\")\n",
    "\n",
    "# Annoy NN ditandai hijau\n",
    "plt.scatter(X[idx_ann,0], X[idx_ann,1], c=\"green\", s=50, marker=\"s\", label=\"Annoy NN\")\n",
    "\n",
    "plt.legend()\n",
    "plt.title(\"Exact NN vs Annoy NN (3 trees)\")\n",
    "plt.show()"
   ]
  },
  {
   "cell_type": "markdown",
   "id": "f0981e35",
   "metadata": {},
   "source": [
    "Dari hasil diatas terlihat waktu komputasi untuk ANNOY adalah 1/10 dari Exact NN. Lakukan percobaan dan isikan hasil percobaan pada tabel berikut.\n",
    "\n",
    "| Distance Metrics | Tree | Jumlah data | Hasil Index terdekat ENN vs ANN | Waktu komputasi Vs |\n",
    "|-----------------|------|------------|--------------------------------|-------------------|\n",
    "| Euclidean       | 3    | 1000       | [219, 898, 593], [219, 898, 593] | 1.2271 ms vs 0.1264 ms |\n",
    "| Euclidean       | 8    | 1000       | [219, 898, 593], [219, 898, 593] | 1.0016 ms vs 1.0016 ms |\n",
    "| Euclidean       | 3    | 100,000    | [64040 64186 88792], [64040, 64186, 88792] | 6.9983 ms vs 0.0 ms |\n",
    "| Angular         | 3    | 1000       | [219 898 593], [219, 429, 540] | 1.0018 ms vs 0.0 ms |\n",
    "| Angular         | 8    | 1000       | [219 898 593], [219, 429, 540] | 0.0 ms vs 0.0 ms |\n",
    "| Angular         | 3    | 100,000    | [64040 64186 88792], [59477, 12303, 1267] | 4.9999 ms vs 0.0 ms |"
   ]
  },
  {
   "cell_type": "markdown",
   "id": "9e713274",
   "metadata": {},
   "source": [
    "Pada code dan tabel berikut percobaan simulasi membuat track rekomendasi spotify dilakukan dengan 20 fitur dan berisi 1 juta lagu (fyi, spotify memiliki 150 jutaan track), isikan hasilnya."
   ]
  },
  {
   "cell_type": "code",
   "execution_count": 30,
   "id": "86824370",
   "metadata": {},
   "outputs": [
    {
     "name": "stdout",
     "output_type": "stream",
     "text": [
      "Exact NN result: [277938 595766 376500 212639 350752]\n",
      "Exact NN time: 0.097 seconds\n",
      "Build time: 3.372 seconds\n",
      "Annoy result: [137102, 393367, 665230, 484132, 24529]\n",
      "Annoy time: 0.0 seconds\n"
     ]
    }
   ],
   "source": [
    "import numpy as np\n",
    "import time\n",
    "from sklearn.metrics.pairwise import euclidean_distances # untuk metrik Euclidean\n",
    "from sklearn.metrics.pairwise import cosine_distances # untuk metrik angular\n",
    "from annoy import AnnoyIndex\n",
    "\n",
    "# ---- 1. Buat dataset mirip Spotify ----\n",
    "n_tracks = 1_000_000   # 50 juta track\n",
    "n_features = 20        # contoh: danceability, energy, tempo, dll.\n",
    "\n",
    "# dataset besar (random untuk simulasi)\n",
    "X = np.random.rand(n_tracks, n_features).astype(np.float32)\n",
    "\n",
    "# query track (misalnya lagu baru)\n",
    "query = np.random.rand(1, n_features).astype(np.float32)\n",
    "\n",
    "# ---- 2. Exact NN (brute force) ----\n",
    "start = time.time()\n",
    "distances = cosine_distances(query, X)[0]   # hitung semua jarak\n",
    "exact_idx = np.argsort(distances)[:5]          # ambil 5 terdekat\n",
    "exact_time = time.time() - start\n",
    "\n",
    "print(\"Exact NN result:\", exact_idx)\n",
    "print(\"Exact NN time:\", round(exact_time, 3), \"seconds\")\n",
    "\n",
    "# ---- 3. Approx NN pakai Annoy ----\n",
    "f = n_features\n",
    "annoy_index = AnnoyIndex(f, 'angular')  # \n",
    "n_trees = 8\n",
    "\n",
    "# build index\n",
    "# start = time.time()\n",
    "for i in range(n_tracks):\n",
    "    annoy_index.add_item(i, X[i])\n",
    "annoy_index.build(n_trees)\n",
    "# build_time = time.time() - start\n",
    "# print(\"Build time:\", round(build_time, 3), \"seconds\")\n",
    "\n",
    "start = time.time()\n",
    "annoy_idx = annoy_index.get_nns_by_vector(query[0], 5)  # ambil 5 lagu yang mirip\n",
    "annoy_time = time.time() - start\n",
    "\n",
    "print(\"Annoy result:\", annoy_idx)\n",
    "print(\"Annoy time:\", round(annoy_time, 3), \"seconds\")\n"
   ]
  },
  {
   "cell_type": "markdown",
   "id": "fe1e0e60",
   "metadata": {},
   "source": [
    "| Distance Metrics | Tree | Jumlah data | Hasil Index terdekat ENN vs ANN | Waktu komputasi Vs |\n",
    "|-----------------|------|------------|--------------------------------|-------------------|\n",
    "| Euclidean       | 8    | 1000000    | [718951 566929 443116 573985 715960] vs [715960, 883955, 170362, 912843, 907861] | 0.06 s vs 0.001 s |\n",
    "| Angular         | 8    | 1000000    | [509918 125899 881660 842356 448888] vs [881660, 845642, 151383, 154456, 132070] | 0.109 s vs 0.0 s |\n"
   ]
  },
  {
   "cell_type": "markdown",
   "id": "1a89638e",
   "metadata": {},
   "source": [
    "Pertanyaannya: Kenapa code dibagian build index tidak dihitung waktunya? \n",
    "\n",
    ">karena pada kasus spotify, build hanya dijalankan sekali saat pengembangan sedangkan pencarian akan dilakukan berkali kali. jadi yang dibandingkan hanya waktu kecepatan pencariannya"
   ]
  }
 ],
 "metadata": {
  "kernelspec": {
   "display_name": "py312_env",
   "language": "python",
   "name": "python3"
  },
  "language_info": {
   "codemirror_mode": {
    "name": "ipython",
    "version": 3
   },
   "file_extension": ".py",
   "mimetype": "text/x-python",
   "name": "python",
   "nbconvert_exporter": "python",
   "pygments_lexer": "ipython3",
   "version": "3.12.11"
  }
 },
 "nbformat": 4,
 "nbformat_minor": 5
}
